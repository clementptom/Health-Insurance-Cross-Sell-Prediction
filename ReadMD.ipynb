{
 "cells": [
  {
   "cell_type": "markdown",
   "id": "4a4ac367",
   "metadata": {},
   "source": [
    "### 1. Data collection - done\n",
    "\n",
    "### 3. Pre-processing \n",
    "    a. missing value handling - done\n",
    "    b. outlier detection and handling \n",
    "    c. encoding - done\n",
    "    d. feature reduction - is it necessary?\n",
    "    e. standardization/normalization\n",
    "    f. feature engineering\n",
    "\n",
    "### 2. Exploratory Data Analysis\n",
    "    a. univariate analysis\n",
    "    b. bivariate analysis\n",
    "\n",
    "### 4. Modelling\n",
    "\n",
    "### 5. Model Fine Tuning"
   ]
  },
  {
   "cell_type": "code",
   "execution_count": null,
   "id": "876c1b6d",
   "metadata": {},
   "outputs": [],
   "source": []
  }
 ],
 "metadata": {
  "kernelspec": {
   "display_name": "Python 3 (ipykernel)",
   "language": "python",
   "name": "python3"
  },
  "language_info": {
   "codemirror_mode": {
    "name": "ipython",
    "version": 3
   },
   "file_extension": ".py",
   "mimetype": "text/x-python",
   "name": "python",
   "nbconvert_exporter": "python",
   "pygments_lexer": "ipython3",
   "version": "3.9.7"
  }
 },
 "nbformat": 4,
 "nbformat_minor": 5
}
