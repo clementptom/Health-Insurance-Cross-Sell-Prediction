{
 "cells": [
  {
   "cell_type": "code",
   "execution_count": 1,
   "id": "283ae76d",
   "metadata": {},
   "outputs": [],
   "source": [
    "import pandas as pd\n",
    "import numpy as np\n",
    "import matplotlib.pyplot as plt\n",
    "import seaborn as sns\n",
    "\n",
    "from sklearn.metrics import accuracy_score\n",
    "from sklearn.model_selection import train_test_split,RandomizedSearchCV\n",
    "from sklearn.metrics import accuracy_score,confusion_matrix,classification_report,mean_absolute_error,mean_squared_error\n",
    "from sklearn.metrics import precision_score, recall_score, f1_score, r2_score\n",
    "from sklearn import tree\n",
    "from sklearn.linear_model import LogisticRegression, LinearRegression\n",
    "from sklearn.ensemble import RandomForestClassifier, GradientBoostingClassifier\n",
    "from sklearn.preprocessing import LabelEncoder\n",
    "from sklearn.datasets import make_regression"
   ]
  },
  {
   "cell_type": "code",
   "execution_count": 2,
   "id": "48cd95e6",
   "metadata": {
    "scrolled": false
   },
   "outputs": [
    {
     "data": {
      "text/html": [
       "<div>\n",
       "<style scoped>\n",
       "    .dataframe tbody tr th:only-of-type {\n",
       "        vertical-align: middle;\n",
       "    }\n",
       "\n",
       "    .dataframe tbody tr th {\n",
       "        vertical-align: top;\n",
       "    }\n",
       "\n",
       "    .dataframe thead th {\n",
       "        text-align: right;\n",
       "    }\n",
       "</style>\n",
       "<table border=\"1\" class=\"dataframe\">\n",
       "  <thead>\n",
       "    <tr style=\"text-align: right;\">\n",
       "      <th></th>\n",
       "      <th>id</th>\n",
       "      <th>Gender</th>\n",
       "      <th>Age</th>\n",
       "      <th>Driving_License</th>\n",
       "      <th>Region_Code</th>\n",
       "      <th>Previously_Insured</th>\n",
       "      <th>Vehicle_Age</th>\n",
       "      <th>Vehicle_Damage</th>\n",
       "      <th>Annual_Premium</th>\n",
       "      <th>Policy_Sales_Channel</th>\n",
       "      <th>Vintage</th>\n",
       "      <th>Response</th>\n",
       "    </tr>\n",
       "  </thead>\n",
       "  <tbody>\n",
       "    <tr>\n",
       "      <th>0</th>\n",
       "      <td>1</td>\n",
       "      <td>Male</td>\n",
       "      <td>44</td>\n",
       "      <td>1</td>\n",
       "      <td>28.0</td>\n",
       "      <td>0</td>\n",
       "      <td>&gt; 2 Years</td>\n",
       "      <td>Yes</td>\n",
       "      <td>40454.0</td>\n",
       "      <td>26.0</td>\n",
       "      <td>217</td>\n",
       "      <td>1</td>\n",
       "    </tr>\n",
       "    <tr>\n",
       "      <th>1</th>\n",
       "      <td>2</td>\n",
       "      <td>Male</td>\n",
       "      <td>76</td>\n",
       "      <td>1</td>\n",
       "      <td>3.0</td>\n",
       "      <td>0</td>\n",
       "      <td>1-2 Year</td>\n",
       "      <td>No</td>\n",
       "      <td>33536.0</td>\n",
       "      <td>26.0</td>\n",
       "      <td>183</td>\n",
       "      <td>0</td>\n",
       "    </tr>\n",
       "    <tr>\n",
       "      <th>2</th>\n",
       "      <td>3</td>\n",
       "      <td>Male</td>\n",
       "      <td>47</td>\n",
       "      <td>1</td>\n",
       "      <td>28.0</td>\n",
       "      <td>0</td>\n",
       "      <td>&gt; 2 Years</td>\n",
       "      <td>Yes</td>\n",
       "      <td>38294.0</td>\n",
       "      <td>26.0</td>\n",
       "      <td>27</td>\n",
       "      <td>1</td>\n",
       "    </tr>\n",
       "    <tr>\n",
       "      <th>3</th>\n",
       "      <td>4</td>\n",
       "      <td>Male</td>\n",
       "      <td>21</td>\n",
       "      <td>1</td>\n",
       "      <td>11.0</td>\n",
       "      <td>1</td>\n",
       "      <td>&lt; 1 Year</td>\n",
       "      <td>No</td>\n",
       "      <td>28619.0</td>\n",
       "      <td>152.0</td>\n",
       "      <td>203</td>\n",
       "      <td>0</td>\n",
       "    </tr>\n",
       "    <tr>\n",
       "      <th>4</th>\n",
       "      <td>5</td>\n",
       "      <td>Female</td>\n",
       "      <td>29</td>\n",
       "      <td>1</td>\n",
       "      <td>41.0</td>\n",
       "      <td>1</td>\n",
       "      <td>&lt; 1 Year</td>\n",
       "      <td>No</td>\n",
       "      <td>27496.0</td>\n",
       "      <td>152.0</td>\n",
       "      <td>39</td>\n",
       "      <td>0</td>\n",
       "    </tr>\n",
       "  </tbody>\n",
       "</table>\n",
       "</div>"
      ],
      "text/plain": [
       "   id  Gender  Age  Driving_License  Region_Code  Previously_Insured  \\\n",
       "0   1    Male   44                1         28.0                   0   \n",
       "1   2    Male   76                1          3.0                   0   \n",
       "2   3    Male   47                1         28.0                   0   \n",
       "3   4    Male   21                1         11.0                   1   \n",
       "4   5  Female   29                1         41.0                   1   \n",
       "\n",
       "  Vehicle_Age Vehicle_Damage  Annual_Premium  Policy_Sales_Channel  Vintage  \\\n",
       "0   > 2 Years            Yes         40454.0                  26.0      217   \n",
       "1    1-2 Year             No         33536.0                  26.0      183   \n",
       "2   > 2 Years            Yes         38294.0                  26.0       27   \n",
       "3    < 1 Year             No         28619.0                 152.0      203   \n",
       "4    < 1 Year             No         27496.0                 152.0       39   \n",
       "\n",
       "   Response  \n",
       "0         1  \n",
       "1         0  \n",
       "2         1  \n",
       "3         0  \n",
       "4         0  "
      ]
     },
     "execution_count": 2,
     "metadata": {},
     "output_type": "execute_result"
    }
   ],
   "source": [
    "#reading csv file\n",
    "train = pd.read_csv('train.csv')\n",
    "test = pd.read_csv('test.csv')\n",
    "train.head()"
   ]
  },
  {
   "cell_type": "code",
   "execution_count": 3,
   "id": "82507f5e",
   "metadata": {},
   "outputs": [],
   "source": [
    "#copying df to data\n",
    "df = pd.read_csv('train.csv')"
   ]
  },
  {
   "cell_type": "code",
   "execution_count": 4,
   "id": "6b0f2e8c",
   "metadata": {},
   "outputs": [
    {
     "name": "stdout",
     "output_type": "stream",
     "text": [
      "Number of rows: 381109, number of features: 12\n"
     ]
    }
   ],
   "source": [
    "#requirements\n",
    "print('Number of rows: '+ format(df.shape[0]) +', number of features: '+ format(df.shape[1]))"
   ]
  },
  {
   "cell_type": "code",
   "execution_count": 5,
   "id": "3278f7c3",
   "metadata": {
    "scrolled": false
   },
   "outputs": [
    {
     "data": {
      "text/plain": [
       "id                      381109\n",
       "Gender                       2\n",
       "Age                         66\n",
       "Driving_License              2\n",
       "Region_Code                 53\n",
       "Previously_Insured           2\n",
       "Vehicle_Age                  3\n",
       "Vehicle_Damage               2\n",
       "Annual_Premium           48838\n",
       "Policy_Sales_Channel       155\n",
       "Vintage                    290\n",
       "Response                     2\n",
       "dtype: int64"
      ]
     },
     "execution_count": 5,
     "metadata": {},
     "output_type": "execute_result"
    }
   ],
   "source": [
    "#checking for unique values\n",
    "df.nunique()"
   ]
  },
  {
   "cell_type": "code",
   "execution_count": 6,
   "id": "a4a184ba",
   "metadata": {
    "scrolled": true
   },
   "outputs": [
    {
     "name": "stdout",
     "output_type": "stream",
     "text": [
      "<class 'pandas.core.frame.DataFrame'>\n",
      "RangeIndex: 381109 entries, 0 to 381108\n",
      "Data columns (total 12 columns):\n",
      " #   Column                Non-Null Count   Dtype  \n",
      "---  ------                --------------   -----  \n",
      " 0   id                    381109 non-null  int64  \n",
      " 1   Gender                381109 non-null  object \n",
      " 2   Age                   381109 non-null  int64  \n",
      " 3   Driving_License       381109 non-null  int64  \n",
      " 4   Region_Code           381109 non-null  float64\n",
      " 5   Previously_Insured    381109 non-null  int64  \n",
      " 6   Vehicle_Age           381109 non-null  object \n",
      " 7   Vehicle_Damage        381109 non-null  object \n",
      " 8   Annual_Premium        381109 non-null  float64\n",
      " 9   Policy_Sales_Channel  381109 non-null  float64\n",
      " 10  Vintage               381109 non-null  int64  \n",
      " 11  Response              381109 non-null  int64  \n",
      "dtypes: float64(3), int64(6), object(3)\n",
      "memory usage: 34.9+ MB\n"
     ]
    }
   ],
   "source": [
    "df.info()"
   ]
  },
  {
   "cell_type": "code",
   "execution_count": 7,
   "id": "71ccceff",
   "metadata": {
    "scrolled": false
   },
   "outputs": [],
   "source": [
    "#converting float64 Dtype columns into int64 Dtype columns\n",
    "for i in df.columns:\n",
    "    if (df[i].dtype == 'float64'):\n",
    "        df[i] = df[i].astype(np.int64)"
   ]
  },
  {
   "cell_type": "code",
   "execution_count": 8,
   "id": "03e44c50",
   "metadata": {
    "scrolled": true
   },
   "outputs": [
    {
     "name": "stdout",
     "output_type": "stream",
     "text": [
      "Categorical columns are ['Gender', 'Vehicle_Age', 'Vehicle_Damage'].\n",
      "\n",
      "Numerical columns are ['id', 'Age', 'Driving_License', 'Region_Code', 'Previously_Insured', 'Annual_Premium', 'Policy_Sales_Channel', 'Vintage', 'Response'].\n"
     ]
    }
   ],
   "source": [
    "#identifying categorical and numerical columns\n",
    "categorical = []\n",
    "for i in df.columns:\n",
    "    if (df[i].dtype == 'object'):\n",
    "        categorical.append(i)\n",
    "print(f\"Categorical columns are {categorical}.\\n\")\n",
    "\n",
    "numerical = []\n",
    "for i in df.columns:\n",
    "    if (df[i].dtype == 'int64'):\n",
    "        numerical.append(i)\n",
    "print(f\"Numerical columns are {numerical}.\")\n",
    "\n",
    "#but the numerical columns aren't always going to be numerical columns just because it is of int datatype\n",
    "#example - 'Driving_License', 'Region_Code', 'Previously_Insured', 'Policy_Sales_Channel', 'Response' are actually categorical!"
   ]
  },
  {
   "cell_type": "code",
   "execution_count": 9,
   "id": "2489aa82",
   "metadata": {},
   "outputs": [],
   "source": [
    "#so categorical -\n",
    "categorical = ['Gender'\n",
    "               ,'Driving_License'\n",
    "               ,'Region_Code'\n",
    "               ,'Previously_Insured'\n",
    "               ,'Vehicle_Age'\n",
    "               ,'Vehicle_Damage'\n",
    "               ,'Policy_Sales_Channel']\n",
    "\n",
    "#and numerical -\n",
    "numerical = ['Age'\n",
    "            ,'Vintage'\n",
    "            ,'Annual_Premium']"
   ]
  },
  {
   "cell_type": "markdown",
   "id": "f4f7e29e",
   "metadata": {},
   "source": [
    "# Exploratory Data Analysis"
   ]
  },
  {
   "cell_type": "markdown",
   "id": "f5fe1920",
   "metadata": {},
   "source": [
    "### i. Univariate"
   ]
  },
  {
   "cell_type": "code",
   "execution_count": 10,
   "id": "eef643d4",
   "metadata": {
    "scrolled": false
   },
   "outputs": [
    {
     "data": {
      "text/plain": [
       "<AxesSubplot:xlabel='Gender', ylabel='count'>"
      ]
     },
     "execution_count": 10,
     "metadata": {},
     "output_type": "execute_result"
    },
    {
     "data": {
      "image/png": "[encoded data removed]",
      "text/plain": [
       "<Figure size 432x288 with 1 Axes>"
      ]
     },
     "metadata": {
      "needs_background": "light"
     },
     "output_type": "display_data"
    }
   ],
   "source": [
    "sns.countplot(data = df, x = 'Gender', hue = 'Response')"
   ]
  },
  {
   "cell_type": "code",
   "execution_count": 11,
   "id": "8cec800a",
   "metadata": {},
   "outputs": [
    {
     "data": {
      "text/plain": [
       "<AxesSubplot:title={'center':'pie chart of Percentage of target class'}, ylabel='Response'>"
      ]
     },
     "execution_count": 11,
     "metadata": {},
     "output_type": "execute_result"
    },
    {
     "data": {
      "image/png": "[encoded data removed]",
      "text/plain": [
       "<Figure size 720x504 with 1 Axes>"
      ]
     },
     "metadata": {},
     "output_type": "display_data"
    }
   ],
   "source": [
    "count = train['Response'].value_counts()\n",
    "count.plot.pie(autopct = '%1.1f%%'\n",
    "               ,colors=['yellow','red']\n",
    "               , figsize = (10,7)\n",
    "               ,explode = [0,0.1]\n",
    "               ,title = \"pie chart of Percentage of target class\")"
   ]
  },
  {
   "cell_type": "code",
   "execution_count": 12,
   "id": "e42d3c47",
   "metadata": {
    "scrolled": true
   },
   "outputs": [
    {
     "name": "stdout",
     "output_type": "stream",
     "text": [
      "28525 men and 18185 women responded positively.\n",
      "\n",
      "Wheras 177564 men and 156835 women said no to insurance.\n"
     ]
    }
   ],
   "source": [
    "a = sum((df['Gender'] == 'Male') & (df['Response'] == 1))\n",
    "b = sum((df['Gender'] == 'Female') & (df['Response'] == 1))\n",
    "c = sum((df['Gender'] == 'Male') & (df['Response'] == 0))\n",
    "d = sum((df['Gender'] == 'Female') & (df['Response'] == 0))\n",
    "\n",
    "print(f\"{a} men and {b} women responded positively.\\n\")\n",
    "print(f\"Wheras {c} men and {d} women said no to insurance.\")\n"
   ]
  },
  {
   "cell_type": "code",
   "execution_count": 13,
   "id": "44584b59",
   "metadata": {},
   "outputs": [
    {
     "data": {
      "text/plain": [
       "<AxesSubplot:xlabel='Gender', ylabel='count'>"
      ]
     },
     "execution_count": 13,
     "metadata": {},
     "output_type": "execute_result"
    },
    {
     "data": {
      "image/png": "[encoded data removed]",
      "text/plain": [
       "<Figure size 432x288 with 1 Axes>"
      ]
     },
     "metadata": {
      "needs_background": "light"
     },
     "output_type": "display_data"
    }
   ],
   "source": [
    "sns.countplot(data=df,x='Gender',hue='Previously_Insured')"
   ]
  },
  {
   "cell_type": "code",
   "execution_count": 14,
   "id": "6c3a437f",
   "metadata": {},
   "outputs": [
    {
     "data": {
      "text/plain": [
       "<AxesSubplot:xlabel='Vehicle_Age', ylabel='count'>"
      ]
     },
     "execution_count": 14,
     "metadata": {},
     "output_type": "execute_result"
    },
    {
     "data": {
      "image/png": "[encoded data removed]",
      "text/plain": [
       "<Figure size 432x288 with 1 Axes>"
      ]
     },
     "metadata": {
      "needs_background": "light"
     },
     "output_type": "display_data"
    }
   ],
   "source": [
    "sns.countplot(data=df,x='Vehicle_Age',hue='Vehicle_Damage')"
   ]
  },
  {
   "cell_type": "code",
   "execution_count": 15,
   "id": "dd26b9ff",
   "metadata": {},
   "outputs": [
    {
     "data": {
      "image/png": "[encoded data removed]",
      "text/plain": [
       "<Figure size 1080x216 with 1 Axes>"
      ]
     },
     "metadata": {
      "needs_background": "light"
     },
     "output_type": "display_data"
    }
   ],
   "source": [
    "plt.figure(figsize = (15,3))\n",
    "sns.countplot(x=train['Age'], palette = 'hsv')\n",
    "plt.title('Count of Age')\n",
    "plt.show()"
   ]
  },
  {
   "cell_type": "code",
   "execution_count": 16,
   "id": "be037e7e",
   "metadata": {
    "scrolled": true
   },
   "outputs": [
    {
     "data": {
      "image/png": "[encoded data removed]",
      "text/plain": [
       "<Figure size 432x288 with 1 Axes>"
      ]
     },
     "metadata": {
      "needs_background": "light"
     },
     "output_type": "display_data"
    }
   ],
   "source": [
    "b = sns.boxplot(y='Age', x='Response', data=df);\n",
    "b.set_title(\"Age Distribution for each Response\");"
   ]
  },
  {
   "cell_type": "code",
   "execution_count": 17,
   "id": "a829f757",
   "metadata": {
    "scrolled": false
   },
   "outputs": [
    {
     "data": {
      "text/plain": [
       "<seaborn.axisgrid.FacetGrid at 0x22acb5b6f40>"
      ]
     },
     "execution_count": 17,
     "metadata": {},
     "output_type": "execute_result"
    },
    {
     "data": {
      "image/png": "[encoded data removed]",
      "text/plain": [
       "<Figure size 360x360 with 1 Axes>"
      ]
     },
     "metadata": {
      "needs_background": "light"
     },
     "output_type": "display_data"
    }
   ],
   "source": [
    "sns.displot(df.Annual_Premium)"
   ]
  },
  {
   "cell_type": "code",
   "execution_count": 18,
   "id": "75e31d78",
   "metadata": {},
   "outputs": [
    {
     "data": {
      "text/plain": [
       "<seaborn.axisgrid.FacetGrid at 0x22aca4e7070>"
      ]
     },
     "execution_count": 18,
     "metadata": {},
     "output_type": "execute_result"
    },
    {
     "data": {
      "image/png": "[encoded data removed]",
      "text/plain": [
       "<Figure size 360x360 with 1 Axes>"
      ]
     },
     "metadata": {
      "needs_background": "light"
     },
     "output_type": "display_data"
    }
   ],
   "source": [
    "sns.displot(df.Vintage)"
   ]
  },
  {
   "cell_type": "code",
   "execution_count": 19,
   "id": "5fd7f1b3",
   "metadata": {},
   "outputs": [
    {
     "data": {
      "text/plain": [
       "<AxesSubplot:xlabel='Vehicle_Age', ylabel='count'>"
      ]
     },
     "execution_count": 19,
     "metadata": {},
     "output_type": "execute_result"
    },
    {
     "data": {
      "image/png": "[encoded data removed]",
      "text/plain": [
       "<Figure size 432x288 with 1 Axes>"
      ]
     },
     "metadata": {
      "needs_background": "light"
     },
     "output_type": "display_data"
    }
   ],
   "source": [
    "sns.countplot(data=df,x='Vehicle_Age',hue='Vehicle_Damage')"
   ]
  },
  {
   "cell_type": "markdown",
   "id": "0f51e955",
   "metadata": {},
   "source": [
    "### ii. Bivariate"
   ]
  },
  {
   "cell_type": "code",
   "execution_count": 20,
   "id": "684df30e",
   "metadata": {},
   "outputs": [
    {
     "data": {
      "text/plain": [
       "<seaborn.axisgrid.FacetGrid at 0x22aca5f85e0>"
      ]
     },
     "execution_count": 20,
     "metadata": {},
     "output_type": "execute_result"
    },
    {
     "data": {
      "image/png": "[encoded data removed]",
      "text/plain": [
       "<Figure size 360x360 with 1 Axes>"
      ]
     },
     "metadata": {
      "needs_background": "light"
     },
     "output_type": "display_data"
    }
   ],
   "source": [
    "sns.relplot(data=df,x='Age',y='Previously_Insured',kind='line')"
   ]
  },
  {
   "cell_type": "code",
   "execution_count": 21,
   "id": "222351b4",
   "metadata": {},
   "outputs": [
    {
     "data": {
      "image/png": "[encoded data removed]",
      "text/plain": [
       "<Figure size 403.2x288 with 2 Axes>"
      ]
     },
     "metadata": {
      "needs_background": "light"
     },
     "output_type": "display_data"
    }
   ],
   "source": [
    "df1=df.groupby(['Vehicle_Age','Response'])['id'].count().to_frame().rename(columns={'id':'count'}).reset_index()\n",
    "\n",
    "sns.catplot(x=\"Vehicle_Age\", y=\"count\",col=\"Response\",data=df1, kind=\"bar\",height=4, aspect=.7);"
   ]
  },
  {
   "cell_type": "code",
   "execution_count": 22,
   "id": "bcc898c0",
   "metadata": {},
   "outputs": [
    {
     "name": "stdout",
     "output_type": "stream",
     "text": [
      "  Vehicle_Age  Response   count\n",
      "0    1-2 Year         0  165510\n",
      "1    1-2 Year         1   34806\n",
      "2    < 1 Year         0  157584\n",
      "3    < 1 Year         1    7202\n",
      "4   > 2 Years         0   11305\n",
      "5   > 2 Years         1    4702\n"
     ]
    }
   ],
   "source": [
    "print(df1)"
   ]
  },
  {
   "cell_type": "markdown",
   "id": "444431f4",
   "metadata": {},
   "source": [
    "# Data Preprocessing"
   ]
  },
  {
   "cell_type": "markdown",
   "id": "8be7d266",
   "metadata": {},
   "source": [
    "### a. Handling missing data values"
   ]
  },
  {
   "cell_type": "code",
   "execution_count": 23,
   "id": "72b8b9ff",
   "metadata": {
    "scrolled": false
   },
   "outputs": [
    {
     "data": {
      "text/plain": [
       "id                      0\n",
       "Gender                  0\n",
       "Age                     0\n",
       "Driving_License         0\n",
       "Region_Code             0\n",
       "Previously_Insured      0\n",
       "Vehicle_Age             0\n",
       "Vehicle_Damage          0\n",
       "Annual_Premium          0\n",
       "Policy_Sales_Channel    0\n",
       "Vintage                 0\n",
       "Response                0\n",
       "dtype: int64"
      ]
     },
     "execution_count": 23,
     "metadata": {},
     "output_type": "execute_result"
    }
   ],
   "source": [
    "#checking for null values\n",
    "df.isnull().sum()"
   ]
  },
  {
   "cell_type": "markdown",
   "id": "aaf4eb7e",
   "metadata": {},
   "source": [
    "Since there are no missing data values, we will move over to the next process."
   ]
  },
  {
   "cell_type": "markdown",
   "id": "310c8bd1",
   "metadata": {},
   "source": [
    "### b. Outlier Detection and Handling"
   ]
  },
  {
   "cell_type": "code",
   "execution_count": 24,
   "id": "f2b616d8",
   "metadata": {
    "scrolled": false
   },
   "outputs": [
    {
     "name": "stdout",
     "output_type": "stream",
     "text": [
      "['id', 'Age', 'Driving_License', 'Region_Code', 'Previously_Insured', 'Annual_Premium', 'Policy_Sales_Channel', 'Vintage', 'Response']\n"
     ]
    },
    {
     "data": {
      "image/png": "[encoded data removed]",
      "text/plain": [
       "<Figure size 1080x576 with 1 Axes>"
      ]
     },
     "metadata": {
      "needs_background": "light"
     },
     "output_type": "display_data"
    }
   ],
   "source": [
    "col = list(df.columns)\n",
    "int64_col = [i for i in col if (df[i].dtype == 'int64')]\n",
    "print(int64_col)\n",
    "\n",
    "df1 = pd.DataFrame(data = df, columns = int64_col)\n",
    "\n",
    "plt.figure(figsize=(15,8))\n",
    "sns.boxplot(x=\"variable\", y=\"value\", data=pd.melt(df1))\n",
    "plt.show()"
   ]
  },
  {
   "cell_type": "markdown",
   "id": "e7c164b4",
   "metadata": {},
   "source": [
    "Annual Premium is the only feature where there is noticeably lot of outliers present. Since, it is a categorical vairable we don't have to handle the outlier"
   ]
  },
  {
   "cell_type": "markdown",
   "id": "b20dfc3a",
   "metadata": {},
   "source": [
    "### Feature Engineering"
   ]
  },
  {
   "cell_type": "code",
   "execution_count": 25,
   "id": "c49410cb",
   "metadata": {},
   "outputs": [
    {
     "data": {
      "text/plain": [
       "Index(['id', 'Gender', 'Age', 'Driving_License', 'Region_Code',\n",
       "       'Previously_Insured', 'Vehicle_Age', 'Vehicle_Damage', 'Annual_Premium',\n",
       "       'Policy_Sales_Channel', 'Vintage', 'Response'],\n",
       "      dtype='object')"
      ]
     },
     "execution_count": 25,
     "metadata": {},
     "output_type": "execute_result"
    }
   ],
   "source": [
    "df.columns"
   ]
  },
  {
   "cell_type": "code",
   "execution_count": 26,
   "id": "f51cf262",
   "metadata": {},
   "outputs": [],
   "source": [
    "df = pd.get_dummies(df)"
   ]
  },
  {
   "cell_type": "code",
   "execution_count": 27,
   "id": "89a5e7f4",
   "metadata": {},
   "outputs": [
    {
     "data": {
      "text/html": [
       "<div>\n",
       "<style scoped>\n",
       "    .dataframe tbody tr th:only-of-type {\n",
       "        vertical-align: middle;\n",
       "    }\n",
       "\n",
       "    .dataframe tbody tr th {\n",
       "        vertical-align: top;\n",
       "    }\n",
       "\n",
       "    .dataframe thead th {\n",
       "        text-align: right;\n",
       "    }\n",
       "</style>\n",
       "<table border=\"1\" class=\"dataframe\">\n",
       "  <thead>\n",
       "    <tr style=\"text-align: right;\">\n",
       "      <th></th>\n",
       "      <th>id</th>\n",
       "      <th>Age</th>\n",
       "      <th>Driving_License</th>\n",
       "      <th>Region_Code</th>\n",
       "      <th>Previously_Insured</th>\n",
       "      <th>Annual_Premium</th>\n",
       "      <th>Policy_Sales_Channel</th>\n",
       "      <th>Vintage</th>\n",
       "      <th>Response</th>\n",
       "      <th>Gender_Female</th>\n",
       "      <th>Gender_Male</th>\n",
       "      <th>Vehicle_Age_1-2 Year</th>\n",
       "      <th>Vehicle_Age_&lt; 1 Year</th>\n",
       "      <th>Vehicle_Age_&gt; 2 Years</th>\n",
       "      <th>Vehicle_Damage_No</th>\n",
       "      <th>Vehicle_Damage_Yes</th>\n",
       "    </tr>\n",
       "  </thead>\n",
       "  <tbody>\n",
       "    <tr>\n",
       "      <th>0</th>\n",
       "      <td>1</td>\n",
       "      <td>44</td>\n",
       "      <td>1</td>\n",
       "      <td>28</td>\n",
       "      <td>0</td>\n",
       "      <td>40454</td>\n",
       "      <td>26</td>\n",
       "      <td>217</td>\n",
       "      <td>1</td>\n",
       "      <td>0</td>\n",
       "      <td>1</td>\n",
       "      <td>0</td>\n",
       "      <td>0</td>\n",
       "      <td>1</td>\n",
       "      <td>0</td>\n",
       "      <td>1</td>\n",
       "    </tr>\n",
       "    <tr>\n",
       "      <th>1</th>\n",
       "      <td>2</td>\n",
       "      <td>76</td>\n",
       "      <td>1</td>\n",
       "      <td>3</td>\n",
       "      <td>0</td>\n",
       "      <td>33536</td>\n",
       "      <td>26</td>\n",
       "      <td>183</td>\n",
       "      <td>0</td>\n",
       "      <td>0</td>\n",
       "      <td>1</td>\n",
       "      <td>1</td>\n",
       "      <td>0</td>\n",
       "      <td>0</td>\n",
       "      <td>1</td>\n",
       "      <td>0</td>\n",
       "    </tr>\n",
       "    <tr>\n",
       "      <th>2</th>\n",
       "      <td>3</td>\n",
       "      <td>47</td>\n",
       "      <td>1</td>\n",
       "      <td>28</td>\n",
       "      <td>0</td>\n",
       "      <td>38294</td>\n",
       "      <td>26</td>\n",
       "      <td>27</td>\n",
       "      <td>1</td>\n",
       "      <td>0</td>\n",
       "      <td>1</td>\n",
       "      <td>0</td>\n",
       "      <td>0</td>\n",
       "      <td>1</td>\n",
       "      <td>0</td>\n",
       "      <td>1</td>\n",
       "    </tr>\n",
       "    <tr>\n",
       "      <th>3</th>\n",
       "      <td>4</td>\n",
       "      <td>21</td>\n",
       "      <td>1</td>\n",
       "      <td>11</td>\n",
       "      <td>1</td>\n",
       "      <td>28619</td>\n",
       "      <td>152</td>\n",
       "      <td>203</td>\n",
       "      <td>0</td>\n",
       "      <td>0</td>\n",
       "      <td>1</td>\n",
       "      <td>0</td>\n",
       "      <td>1</td>\n",
       "      <td>0</td>\n",
       "      <td>1</td>\n",
       "      <td>0</td>\n",
       "    </tr>\n",
       "    <tr>\n",
       "      <th>4</th>\n",
       "      <td>5</td>\n",
       "      <td>29</td>\n",
       "      <td>1</td>\n",
       "      <td>41</td>\n",
       "      <td>1</td>\n",
       "      <td>27496</td>\n",
       "      <td>152</td>\n",
       "      <td>39</td>\n",
       "      <td>0</td>\n",
       "      <td>1</td>\n",
       "      <td>0</td>\n",
       "      <td>0</td>\n",
       "      <td>1</td>\n",
       "      <td>0</td>\n",
       "      <td>1</td>\n",
       "      <td>0</td>\n",
       "    </tr>\n",
       "    <tr>\n",
       "      <th>...</th>\n",
       "      <td>...</td>\n",
       "      <td>...</td>\n",
       "      <td>...</td>\n",
       "      <td>...</td>\n",
       "      <td>...</td>\n",
       "      <td>...</td>\n",
       "      <td>...</td>\n",
       "      <td>...</td>\n",
       "      <td>...</td>\n",
       "      <td>...</td>\n",
       "      <td>...</td>\n",
       "      <td>...</td>\n",
       "      <td>...</td>\n",
       "      <td>...</td>\n",
       "      <td>...</td>\n",
       "      <td>...</td>\n",
       "    </tr>\n",
       "    <tr>\n",
       "      <th>381104</th>\n",
       "      <td>381105</td>\n",
       "      <td>74</td>\n",
       "      <td>1</td>\n",
       "      <td>26</td>\n",
       "      <td>1</td>\n",
       "      <td>30170</td>\n",
       "      <td>26</td>\n",
       "      <td>88</td>\n",
       "      <td>0</td>\n",
       "      <td>0</td>\n",
       "      <td>1</td>\n",
       "      <td>1</td>\n",
       "      <td>0</td>\n",
       "      <td>0</td>\n",
       "      <td>1</td>\n",
       "      <td>0</td>\n",
       "    </tr>\n",
       "    <tr>\n",
       "      <th>381105</th>\n",
       "      <td>381106</td>\n",
       "      <td>30</td>\n",
       "      <td>1</td>\n",
       "      <td>37</td>\n",
       "      <td>1</td>\n",
       "      <td>40016</td>\n",
       "      <td>152</td>\n",
       "      <td>131</td>\n",
       "      <td>0</td>\n",
       "      <td>0</td>\n",
       "      <td>1</td>\n",
       "      <td>0</td>\n",
       "      <td>1</td>\n",
       "      <td>0</td>\n",
       "      <td>1</td>\n",
       "      <td>0</td>\n",
       "    </tr>\n",
       "    <tr>\n",
       "      <th>381106</th>\n",
       "      <td>381107</td>\n",
       "      <td>21</td>\n",
       "      <td>1</td>\n",
       "      <td>30</td>\n",
       "      <td>1</td>\n",
       "      <td>35118</td>\n",
       "      <td>160</td>\n",
       "      <td>161</td>\n",
       "      <td>0</td>\n",
       "      <td>0</td>\n",
       "      <td>1</td>\n",
       "      <td>0</td>\n",
       "      <td>1</td>\n",
       "      <td>0</td>\n",
       "      <td>1</td>\n",
       "      <td>0</td>\n",
       "    </tr>\n",
       "    <tr>\n",
       "      <th>381107</th>\n",
       "      <td>381108</td>\n",
       "      <td>68</td>\n",
       "      <td>1</td>\n",
       "      <td>14</td>\n",
       "      <td>0</td>\n",
       "      <td>44617</td>\n",
       "      <td>124</td>\n",
       "      <td>74</td>\n",
       "      <td>0</td>\n",
       "      <td>1</td>\n",
       "      <td>0</td>\n",
       "      <td>0</td>\n",
       "      <td>0</td>\n",
       "      <td>1</td>\n",
       "      <td>0</td>\n",
       "      <td>1</td>\n",
       "    </tr>\n",
       "    <tr>\n",
       "      <th>381108</th>\n",
       "      <td>381109</td>\n",
       "      <td>46</td>\n",
       "      <td>1</td>\n",
       "      <td>29</td>\n",
       "      <td>0</td>\n",
       "      <td>41777</td>\n",
       "      <td>26</td>\n",
       "      <td>237</td>\n",
       "      <td>0</td>\n",
       "      <td>0</td>\n",
       "      <td>1</td>\n",
       "      <td>1</td>\n",
       "      <td>0</td>\n",
       "      <td>0</td>\n",
       "      <td>1</td>\n",
       "      <td>0</td>\n",
       "    </tr>\n",
       "  </tbody>\n",
       "</table>\n",
       "<p>381109 rows × 16 columns</p>\n",
       "</div>"
      ],
      "text/plain": [
       "            id  Age  Driving_License  Region_Code  Previously_Insured  \\\n",
       "0            1   44                1           28                   0   \n",
       "1            2   76                1            3                   0   \n",
       "2            3   47                1           28                   0   \n",
       "3            4   21                1           11                   1   \n",
       "4            5   29                1           41                   1   \n",
       "...        ...  ...              ...          ...                 ...   \n",
       "381104  381105   74                1           26                   1   \n",
       "381105  381106   30                1           37                   1   \n",
       "381106  381107   21                1           30                   1   \n",
       "381107  381108   68                1           14                   0   \n",
       "381108  381109   46                1           29                   0   \n",
       "\n",
       "        Annual_Premium  Policy_Sales_Channel  Vintage  Response  \\\n",
       "0                40454                    26      217         1   \n",
       "1                33536                    26      183         0   \n",
       "2                38294                    26       27         1   \n",
       "3                28619                   152      203         0   \n",
       "4                27496                   152       39         0   \n",
       "...                ...                   ...      ...       ...   \n",
       "381104           30170                    26       88         0   \n",
       "381105           40016                   152      131         0   \n",
       "381106           35118                   160      161         0   \n",
       "381107           44617                   124       74         0   \n",
       "381108           41777                    26      237         0   \n",
       "\n",
       "        Gender_Female  Gender_Male  Vehicle_Age_1-2 Year  \\\n",
       "0                   0            1                     0   \n",
       "1                   0            1                     1   \n",
       "2                   0            1                     0   \n",
       "3                   0            1                     0   \n",
       "4                   1            0                     0   \n",
       "...               ...          ...                   ...   \n",
       "381104              0            1                     1   \n",
       "381105              0            1                     0   \n",
       "381106              0            1                     0   \n",
       "381107              1            0                     0   \n",
       "381108              0            1                     1   \n",
       "\n",
       "        Vehicle_Age_< 1 Year  Vehicle_Age_> 2 Years  Vehicle_Damage_No  \\\n",
       "0                          0                      1                  0   \n",
       "1                          0                      0                  1   \n",
       "2                          0                      1                  0   \n",
       "3                          1                      0                  1   \n",
       "4                          1                      0                  1   \n",
       "...                      ...                    ...                ...   \n",
       "381104                     0                      0                  1   \n",
       "381105                     1                      0                  1   \n",
       "381106                     1                      0                  1   \n",
       "381107                     0                      1                  0   \n",
       "381108                     0                      0                  1   \n",
       "\n",
       "        Vehicle_Damage_Yes  \n",
       "0                        1  \n",
       "1                        0  \n",
       "2                        1  \n",
       "3                        0  \n",
       "4                        0  \n",
       "...                    ...  \n",
       "381104                   0  \n",
       "381105                   0  \n",
       "381106                   0  \n",
       "381107                   1  \n",
       "381108                   0  \n",
       "\n",
       "[381109 rows x 16 columns]"
      ]
     },
     "execution_count": 27,
     "metadata": {},
     "output_type": "execute_result"
    }
   ],
   "source": [
    "df"
   ]
  },
  {
   "cell_type": "markdown",
   "id": "d3474398",
   "metadata": {},
   "source": [
    "#### Finding Highly correlated features"
   ]
  },
  {
   "cell_type": "code",
   "execution_count": 28,
   "id": "f779267a",
   "metadata": {
    "scrolled": false
   },
   "outputs": [
    {
     "data": {
      "text/plain": [
       "<AxesSubplot:>"
      ]
     },
     "execution_count": 28,
     "metadata": {},
     "output_type": "execute_result"
    },
    {
     "data": {
      "image/png": "[encoded data removed]",
      "text/plain": [
       "<Figure size 1080x720 with 2 Axes>"
      ]
     },
     "metadata": {
      "needs_background": "light"
     },
     "output_type": "display_data"
    }
   ],
   "source": [
    "plt.figure(figsize=(15,10))\n",
    "sns.heatmap(df.corr(),annot=True)"
   ]
  },
  {
   "cell_type": "code",
   "execution_count": 29,
   "id": "7bcaa519",
   "metadata": {},
   "outputs": [
    {
     "data": {
      "text/plain": [
       "['Previously_Insured',\n",
       " 'Response',\n",
       " 'Vehicle_Age_< 1 Year',\n",
       " 'Vehicle_Damage_No',\n",
       " 'Vehicle_Damage_Yes']"
      ]
     },
     "execution_count": 29,
     "metadata": {},
     "output_type": "execute_result"
    }
   ],
   "source": [
    "#Highly correlated columns wrt to target columns which can give us better accuracy\n",
    "hig_corr = df.corr()\n",
    "hig_corr_features = list(hig_corr.index[abs(hig_corr[\"Response\"]) >= 0.2])\n",
    "hig_corr_features"
   ]
  },
  {
   "cell_type": "markdown",
   "id": "8317c971",
   "metadata": {},
   "source": [
    "From the above plot we can see correlation among each features. If two features are highly correlated, we can eleminate one of them because they tend to overfit the data and we also need to make sure to consider all the features that highly correlate with the output so that they help in better prediction."
   ]
  },
  {
   "cell_type": "code",
   "execution_count": 30,
   "id": "65906239",
   "metadata": {
    "scrolled": false
   },
   "outputs": [
    {
     "name": "stdout",
     "output_type": "stream",
     "text": [
      "id: -0.0013681501902182431\n",
      "\n",
      "Age: 0.1111468947124896\n",
      "\n",
      "Driving_License: 0.010155174594069723\n",
      "\n",
      "Region_Code: 0.010569855615219465\n",
      "\n",
      "Previously_Insured: -0.34117046261348355\n",
      "\n",
      "Annual_Premium: 0.022574695542552148\n",
      "\n",
      "Policy_Sales_Channel: -0.13904150082911657\n",
      "\n",
      "Vintage: -0.001050372001989629\n",
      "\n",
      "Gender_Female: -0.05243991377131617\n",
      "\n",
      "Gender_Male: 0.05243991377131617\n",
      "\n",
      "Vehicle_Age_1-2 Year: 0.16431673246189815\n",
      "\n",
      "Vehicle_Age_< 1 Year: -0.2098782379062273\n",
      "\n",
      "Vehicle_Age_> 2 Years: 0.10930011085331884\n",
      "\n",
      "Vehicle_Damage_No: -0.354399543879791\n",
      "\n",
      "Vehicle_Damage_Yes: 0.354399543879791\n",
      "\n"
     ]
    }
   ],
   "source": [
    "for col in df.columns:\n",
    "    if col == 'Response':\n",
    "        continue\n",
    "    print(f\"{col}: {df[col].corr(df['Response'])}\\n\")"
   ]
  },
  {
   "cell_type": "markdown",
   "id": "2c5f5659",
   "metadata": {},
   "source": [
    "### c. Encoding (already handled under feature engineering)"
   ]
  },
  {
   "cell_type": "code",
   "execution_count": 31,
   "id": "567cc0bf",
   "metadata": {},
   "outputs": [],
   "source": [
    "#mapping male to 1 and female to 0\n",
    "#d = {'Male': 1, 'Female': 0}\n",
    "#df['Gender'] = df['Gender'].map(d)"
   ]
  },
  {
   "cell_type": "code",
   "execution_count": 32,
   "id": "940cd66a",
   "metadata": {},
   "outputs": [],
   "source": [
    "#mapping yes to 1 and no to 0\n",
    "#d = {'Yes': 1, 'No': 0}\n",
    "#df['Vehicle_Damage'] = df['Vehicle_Damage'].map(d)"
   ]
  },
  {
   "cell_type": "code",
   "execution_count": 33,
   "id": "a830aeeb",
   "metadata": {},
   "outputs": [],
   "source": [
    "#mapping vehicle age\n",
    "#d = {'> 2 Years': 2, '1-2 Year': 1, '< 1 Year': 0}\n",
    "#df['Vehicle_Age'] = df['Vehicle_Age'].map(d)"
   ]
  },
  {
   "cell_type": "markdown",
   "id": "1b334641",
   "metadata": {},
   "source": [
    "### d. Feature Reduction"
   ]
  },
  {
   "cell_type": "code",
   "execution_count": 34,
   "id": "415716d3",
   "metadata": {},
   "outputs": [
    {
     "data": {
      "text/plain": [
       "Index(['id', 'Age', 'Driving_License', 'Region_Code', 'Previously_Insured',\n",
       "       'Annual_Premium', 'Policy_Sales_Channel', 'Vintage', 'Response',\n",
       "       'Gender_Female', 'Gender_Male', 'Vehicle_Age_1-2 Year',\n",
       "       'Vehicle_Age_< 1 Year', 'Vehicle_Age_> 2 Years', 'Vehicle_Damage_No',\n",
       "       'Vehicle_Damage_Yes'],\n",
       "      dtype='object')"
      ]
     },
     "execution_count": 34,
     "metadata": {},
     "output_type": "execute_result"
    }
   ],
   "source": [
    "df.columns"
   ]
  },
  {
   "cell_type": "code",
   "execution_count": 35,
   "id": "eb924461",
   "metadata": {},
   "outputs": [],
   "source": [
    "#droppping 'id' column\n",
    "df = df.drop(['id'], axis=1)"
   ]
  },
  {
   "cell_type": "code",
   "execution_count": 36,
   "id": "a4e67802",
   "metadata": {},
   "outputs": [],
   "source": [
    "#droppping 'Driving_License' column\n",
    "df = df.drop(['Driving_License'], axis=1)"
   ]
  },
  {
   "cell_type": "code",
   "execution_count": 37,
   "id": "d2cbc573",
   "metadata": {},
   "outputs": [],
   "source": [
    "#dropping features with high correlation\n",
    "df = df.drop(['Gender_Female','Vehicle_Age_< 1 Year','Vehicle_Damage_No'], axis = 1)"
   ]
  },
  {
   "cell_type": "markdown",
   "id": "5cfd4dab",
   "metadata": {},
   "source": [
    "### e. Standardization / Normalization"
   ]
  },
  {
   "cell_type": "code",
   "execution_count": 38,
   "id": "47fed36f",
   "metadata": {},
   "outputs": [],
   "source": [
    "from sklearn.preprocessing import MinMaxScaler, normalize\n",
    "from sklearn import preprocessing"
   ]
  },
  {
   "cell_type": "code",
   "execution_count": 39,
   "id": "9b2956f3",
   "metadata": {},
   "outputs": [
    {
     "data": {
      "text/plain": [
       "Index(['Age', 'Region_Code', 'Previously_Insured', 'Annual_Premium',\n",
       "       'Policy_Sales_Channel', 'Vintage', 'Response', 'Gender_Male',\n",
       "       'Vehicle_Age_1-2 Year', 'Vehicle_Age_> 2 Years', 'Vehicle_Damage_Yes'],\n",
       "      dtype='object')"
      ]
     },
     "execution_count": 39,
     "metadata": {},
     "output_type": "execute_result"
    }
   ],
   "source": [
    "df1 = df.copy()\n",
    "df1.columns"
   ]
  },
  {
   "cell_type": "code",
   "execution_count": 40,
   "id": "0430e713",
   "metadata": {},
   "outputs": [],
   "source": [
    "scaler = MinMaxScaler()\n",
    "df1 = df1.drop(['Response'],axis=1) #separating target value\n",
    "#target value doesn't have to be normalized\n",
    "df1 = pd.DataFrame(scaler.fit_transform(df1))"
   ]
  },
  {
   "cell_type": "code",
   "execution_count": 41,
   "id": "c071a4cf",
   "metadata": {
    "scrolled": false
   },
   "outputs": [
    {
     "data": {
      "text/html": [
       "<div>\n",
       "<style scoped>\n",
       "    .dataframe tbody tr th:only-of-type {\n",
       "        vertical-align: middle;\n",
       "    }\n",
       "\n",
       "    .dataframe tbody tr th {\n",
       "        vertical-align: top;\n",
       "    }\n",
       "\n",
       "    .dataframe thead th {\n",
       "        text-align: right;\n",
       "    }\n",
       "</style>\n",
       "<table border=\"1\" class=\"dataframe\">\n",
       "  <thead>\n",
       "    <tr style=\"text-align: right;\">\n",
       "      <th></th>\n",
       "      <th>0</th>\n",
       "      <th>1</th>\n",
       "      <th>2</th>\n",
       "      <th>3</th>\n",
       "      <th>4</th>\n",
       "      <th>5</th>\n",
       "      <th>6</th>\n",
       "      <th>7</th>\n",
       "      <th>8</th>\n",
       "      <th>9</th>\n",
       "    </tr>\n",
       "  </thead>\n",
       "  <tbody>\n",
       "    <tr>\n",
       "      <th>0</th>\n",
       "      <td>0.185357</td>\n",
       "      <td>0.270312</td>\n",
       "      <td>0.000000</td>\n",
       "      <td>0.035324</td>\n",
       "      <td>0.077470</td>\n",
       "      <td>0.359569</td>\n",
       "      <td>0.502008</td>\n",
       "      <td>0.000000</td>\n",
       "      <td>0.502008</td>\n",
       "      <td>0.502008</td>\n",
       "    </tr>\n",
       "    <tr>\n",
       "      <th>1</th>\n",
       "      <td>0.486890</td>\n",
       "      <td>0.032604</td>\n",
       "      <td>0.000000</td>\n",
       "      <td>0.032493</td>\n",
       "      <td>0.087213</td>\n",
       "      <td>0.338302</td>\n",
       "      <td>0.565140</td>\n",
       "      <td>0.565140</td>\n",
       "      <td>0.000000</td>\n",
       "      <td>0.000000</td>\n",
       "    </tr>\n",
       "    <tr>\n",
       "      <th>2</th>\n",
       "      <td>0.222218</td>\n",
       "      <td>0.288060</td>\n",
       "      <td>0.000000</td>\n",
       "      <td>0.035494</td>\n",
       "      <td>0.082557</td>\n",
       "      <td>0.031469</td>\n",
       "      <td>0.534969</td>\n",
       "      <td>0.000000</td>\n",
       "      <td>0.534969</td>\n",
       "      <td>0.534969</td>\n",
       "    </tr>\n",
       "    <tr>\n",
       "      <th>3</th>\n",
       "      <td>0.008390</td>\n",
       "      <td>0.115367</td>\n",
       "      <td>0.545373</td>\n",
       "      <td>0.026368</td>\n",
       "      <td>0.508342</td>\n",
       "      <td>0.364211</td>\n",
       "      <td>0.545373</td>\n",
       "      <td>0.000000</td>\n",
       "      <td>0.000000</td>\n",
       "      <td>0.000000</td>\n",
       "    </tr>\n",
       "    <tr>\n",
       "      <th>4</th>\n",
       "      <td>0.087190</td>\n",
       "      <td>0.496501</td>\n",
       "      <td>0.629708</td>\n",
       "      <td>0.029130</td>\n",
       "      <td>0.586950</td>\n",
       "      <td>0.063189</td>\n",
       "      <td>0.000000</td>\n",
       "      <td>0.000000</td>\n",
       "      <td>0.000000</td>\n",
       "      <td>0.000000</td>\n",
       "    </tr>\n",
       "    <tr>\n",
       "      <th>...</th>\n",
       "      <td>...</td>\n",
       "      <td>...</td>\n",
       "      <td>...</td>\n",
       "      <td>...</td>\n",
       "      <td>...</td>\n",
       "      <td>...</td>\n",
       "      <td>...</td>\n",
       "      <td>...</td>\n",
       "      <td>...</td>\n",
       "      <td>...</td>\n",
       "    </tr>\n",
       "    <tr>\n",
       "      <th>381104</th>\n",
       "      <td>0.413351</td>\n",
       "      <td>0.248776</td>\n",
       "      <td>0.497552</td>\n",
       "      <td>0.025492</td>\n",
       "      <td>0.076783</td>\n",
       "      <td>0.134287</td>\n",
       "      <td>0.497552</td>\n",
       "      <td>0.497552</td>\n",
       "      <td>0.000000</td>\n",
       "      <td>0.000000</td>\n",
       "    </tr>\n",
       "    <tr>\n",
       "      <th>381105</th>\n",
       "      <td>0.081323</td>\n",
       "      <td>0.376118</td>\n",
       "      <td>0.528598</td>\n",
       "      <td>0.036764</td>\n",
       "      <td>0.492705</td>\n",
       "      <td>0.221316</td>\n",
       "      <td>0.528598</td>\n",
       "      <td>0.000000</td>\n",
       "      <td>0.000000</td>\n",
       "      <td>0.000000</td>\n",
       "    </tr>\n",
       "    <tr>\n",
       "      <th>381106</th>\n",
       "      <td>0.008139</td>\n",
       "      <td>0.305210</td>\n",
       "      <td>0.529031</td>\n",
       "      <td>0.031974</td>\n",
       "      <td>0.519235</td>\n",
       "      <td>0.276414</td>\n",
       "      <td>0.529031</td>\n",
       "      <td>0.000000</td>\n",
       "      <td>0.000000</td>\n",
       "      <td>0.000000</td>\n",
       "    </tr>\n",
       "    <tr>\n",
       "      <th>381107</th>\n",
       "      <td>0.409661</td>\n",
       "      <td>0.149356</td>\n",
       "      <td>0.000000</td>\n",
       "      <td>0.043332</td>\n",
       "      <td>0.421198</td>\n",
       "      <td>0.122851</td>\n",
       "      <td>0.000000</td>\n",
       "      <td>0.000000</td>\n",
       "      <td>0.554749</td>\n",
       "      <td>0.554749</td>\n",
       "    </tr>\n",
       "    <tr>\n",
       "      <th>381108</th>\n",
       "      <td>0.226561</td>\n",
       "      <td>0.315878</td>\n",
       "      <td>0.000000</td>\n",
       "      <td>0.041249</td>\n",
       "      <td>0.087408</td>\n",
       "      <td>0.444890</td>\n",
       "      <td>0.566402</td>\n",
       "      <td>0.566402</td>\n",
       "      <td>0.000000</td>\n",
       "      <td>0.000000</td>\n",
       "    </tr>\n",
       "  </tbody>\n",
       "</table>\n",
       "<p>381109 rows × 10 columns</p>\n",
       "</div>"
      ],
      "text/plain": [
       "               0         1         2         3         4         5         6  \\\n",
       "0       0.185357  0.270312  0.000000  0.035324  0.077470  0.359569  0.502008   \n",
       "1       0.486890  0.032604  0.000000  0.032493  0.087213  0.338302  0.565140   \n",
       "2       0.222218  0.288060  0.000000  0.035494  0.082557  0.031469  0.534969   \n",
       "3       0.008390  0.115367  0.545373  0.026368  0.508342  0.364211  0.545373   \n",
       "4       0.087190  0.496501  0.629708  0.029130  0.586950  0.063189  0.000000   \n",
       "...          ...       ...       ...       ...       ...       ...       ...   \n",
       "381104  0.413351  0.248776  0.497552  0.025492  0.076783  0.134287  0.497552   \n",
       "381105  0.081323  0.376118  0.528598  0.036764  0.492705  0.221316  0.528598   \n",
       "381106  0.008139  0.305210  0.529031  0.031974  0.519235  0.276414  0.529031   \n",
       "381107  0.409661  0.149356  0.000000  0.043332  0.421198  0.122851  0.000000   \n",
       "381108  0.226561  0.315878  0.000000  0.041249  0.087408  0.444890  0.566402   \n",
       "\n",
       "               7         8         9  \n",
       "0       0.000000  0.502008  0.502008  \n",
       "1       0.565140  0.000000  0.000000  \n",
       "2       0.000000  0.534969  0.534969  \n",
       "3       0.000000  0.000000  0.000000  \n",
       "4       0.000000  0.000000  0.000000  \n",
       "...          ...       ...       ...  \n",
       "381104  0.497552  0.000000  0.000000  \n",
       "381105  0.000000  0.000000  0.000000  \n",
       "381106  0.000000  0.000000  0.000000  \n",
       "381107  0.000000  0.554749  0.554749  \n",
       "381108  0.566402  0.000000  0.000000  \n",
       "\n",
       "[381109 rows x 10 columns]"
      ]
     },
     "execution_count": 41,
     "metadata": {},
     "output_type": "execute_result"
    }
   ],
   "source": [
    "df1 = preprocessing.normalize(df1)\n",
    "pd.DataFrame(df1)"
   ]
  },
  {
   "cell_type": "code",
   "execution_count": 42,
   "id": "c1f5232d",
   "metadata": {},
   "outputs": [
    {
     "data": {
      "text/plain": [
       "array([0.41609531, 0.61584951, 0.78330137, 0.8470802 , 0.90428999,\n",
       "       0.95156489, 0.98139894, 0.99111763, 0.99921672, 1.        ])"
      ]
     },
     "execution_count": 42,
     "metadata": {},
     "output_type": "execute_result"
    }
   ],
   "source": [
    "#to see the heaviness of each column\n",
    "from sklearn.decomposition import PCA\n",
    "pca = PCA()\n",
    "pca_data = pca.fit_transform(df1)\n",
    "np.cumsum(pca.explained_variance_ratio_)"
   ]
  },
  {
   "cell_type": "markdown",
   "id": "0b39feb4",
   "metadata": {},
   "source": [
    "# Modeling"
   ]
  },
  {
   "cell_type": "markdown",
   "id": "fe7315ca",
   "metadata": {},
   "source": [
    "### X and y"
   ]
  },
  {
   "cell_type": "code",
   "execution_count": 43,
   "id": "d68eea32",
   "metadata": {
    "scrolled": true
   },
   "outputs": [],
   "source": [
    "df1 = pd.DataFrame(df1)\n",
    "X = df1.iloc[:, :]\n",
    "y = df[['Response']]"
   ]
  },
  {
   "cell_type": "code",
   "execution_count": 44,
   "id": "e779852b",
   "metadata": {
    "scrolled": true
   },
   "outputs": [
    {
     "name": "stdout",
     "output_type": "stream",
     "text": [
      "(266776, 10)\n",
      "(114333, 10)\n"
     ]
    }
   ],
   "source": [
    "X_train, X_test, y_train, y_test = train_test_split(X,y,random_state=42,test_size=.3)\n",
    "print(X_train.shape)\n",
    "print(X_test.shape)"
   ]
  },
  {
   "cell_type": "markdown",
   "id": "7d46e0dd",
   "metadata": {},
   "source": [
    "### Decision Tree Classifier"
   ]
  },
  {
   "cell_type": "code",
   "execution_count": 45,
   "id": "f9b74ffc",
   "metadata": {},
   "outputs": [],
   "source": [
    "insurance_classifier = tree.DecisionTreeClassifier(max_leaf_nodes=len(X.columns), random_state=0)\n",
    "model_dt = insurance_classifier.fit(X_train, y_train)"
   ]
  },
  {
   "cell_type": "code",
   "execution_count": 46,
   "id": "06f19faa",
   "metadata": {},
   "outputs": [],
   "source": [
    "y_pred_dt = model_dt.predict(X_test)"
   ]
  },
  {
   "cell_type": "code",
   "execution_count": 47,
   "id": "240615f8",
   "metadata": {},
   "outputs": [
    {
     "name": "stdout",
     "output_type": "stream",
     "text": [
      "Accuracy Score: 87.63436628095126 %\n",
      "\n",
      "\n",
      "Classification Report is: \n",
      "               precision    recall  f1-score   support\n",
      "\n",
      "           0       0.88      1.00      0.93    100195\n",
      "           1       0.00      0.00      0.00     14138\n",
      "\n",
      "    accuracy                           0.88    114333\n",
      "   macro avg       0.44      0.50      0.47    114333\n",
      "weighted avg       0.77      0.88      0.82    114333\n",
      "\n",
      "\n",
      "\n",
      "Confusion Matrix: \n",
      " [[100195      0]\n",
      " [ 14138      0]]\n",
      "\n",
      "\n",
      "Mean Squared Error:  0.12365633719048744\n",
      "\n",
      "\n"
     ]
    },
    {
     "name": "stderr",
     "output_type": "stream",
     "text": [
      "C:\\Users\\Clement\\anaconda3\\lib\\site-packages\\sklearn\\metrics\\_classification.py:1248: UndefinedMetricWarning: Precision and F-score are ill-defined and being set to 0.0 in labels with no predicted samples. Use `zero_division` parameter to control this behavior.\n",
      "  _warn_prf(average, modifier, msg_start, len(result))\n",
      "C:\\Users\\Clement\\anaconda3\\lib\\site-packages\\sklearn\\metrics\\_classification.py:1248: UndefinedMetricWarning: Precision and F-score are ill-defined and being set to 0.0 in labels with no predicted samples. Use `zero_division` parameter to control this behavior.\n",
      "  _warn_prf(average, modifier, msg_start, len(result))\n",
      "C:\\Users\\Clement\\anaconda3\\lib\\site-packages\\sklearn\\metrics\\_classification.py:1248: UndefinedMetricWarning: Precision and F-score are ill-defined and being set to 0.0 in labels with no predicted samples. Use `zero_division` parameter to control this behavior.\n",
      "  _warn_prf(average, modifier, msg_start, len(result))\n"
     ]
    }
   ],
   "source": [
    "print(f'Accuracy Score: {(accuracy_score(y_test,y_pred_dt))*100} %')\n",
    "print('\\n')\n",
    "print(\"Classification Report is: \\n\",classification_report(y_test,y_pred_dt))\n",
    "print('\\n')\n",
    "print(\"Confusion Matrix: \\n\",confusion_matrix(y_test,y_pred_dt))\n",
    "print('\\n')\n",
    "print(\"Mean Squared Error: \",mean_squared_error(y_test,y_pred_dt))\n",
    "print('\\n')"
   ]
  },
  {
   "cell_type": "markdown",
   "id": "63fc8391",
   "metadata": {},
   "source": [
    "### Logistic Regression"
   ]
  },
  {
   "cell_type": "code",
   "execution_count": 48,
   "id": "bf874ec5",
   "metadata": {},
   "outputs": [],
   "source": [
    "log_mod = LogisticRegression(max_iter=10000)\n",
    "model_lor = log_mod.fit(X_train,y_train.values.ravel())\n",
    "y_pred_lor = model_lor.predict(X_test)"
   ]
  },
  {
   "cell_type": "code",
   "execution_count": 49,
   "id": "f30a1729",
   "metadata": {},
   "outputs": [
    {
     "name": "stdout",
     "output_type": "stream",
     "text": [
      "Accuracy Score: 87.63261700471429 %\n",
      "\n",
      "\n",
      "Classification Report is: \n",
      "               precision    recall  f1-score   support\n",
      "\n",
      "           0       0.88      1.00      0.93    100195\n",
      "           1       0.00      0.00      0.00     14138\n",
      "\n",
      "    accuracy                           0.88    114333\n",
      "   macro avg       0.44      0.50      0.47    114333\n",
      "weighted avg       0.77      0.88      0.82    114333\n",
      "\n",
      "\n",
      "\n",
      "Confusion Matrix: \n",
      " [[100193      2]\n",
      " [ 14138      0]]\n",
      "\n",
      "\n",
      "Mean Squared Error:  0.123673829952857\n",
      "\n",
      "\n"
     ]
    }
   ],
   "source": [
    "print(f'Accuracy Score: {(accuracy_score(y_test,y_pred_lor))*100} %')\n",
    "print('\\n')\n",
    "print(\"Classification Report is: \\n\",classification_report(y_test,y_pred_lor))\n",
    "print('\\n')\n",
    "print(\"Confusion Matrix: \\n\",confusion_matrix(y_test,y_pred_lor))\n",
    "print('\\n')\n",
    "print(\"Mean Squared Error: \",mean_squared_error(y_test,y_pred_lor))\n",
    "print('\\n')"
   ]
  },
  {
   "cell_type": "markdown",
   "id": "ec281777",
   "metadata": {},
   "source": [
    "### Random Forest Classifier"
   ]
  },
  {
   "cell_type": "code",
   "execution_count": 50,
   "id": "89d3892d",
   "metadata": {},
   "outputs": [],
   "source": [
    "rf_mod = RandomForestClassifier(random_state=40)\n",
    "model_rf = rf_mod.fit(X_train,y_train.values.ravel())\n",
    "\n",
    "y_pred_rf = model_rf.predict(X_test)"
   ]
  },
  {
   "cell_type": "code",
   "execution_count": 51,
   "id": "aae61f59",
   "metadata": {},
   "outputs": [
    {
     "data": {
      "text/plain": [
       "0.8668013609369124"
      ]
     },
     "execution_count": 51,
     "metadata": {},
     "output_type": "execute_result"
    }
   ],
   "source": [
    "model_rf.score(X_test, y_test)"
   ]
  },
  {
   "cell_type": "code",
   "execution_count": 52,
   "id": "0675b1a1",
   "metadata": {},
   "outputs": [
    {
     "name": "stdout",
     "output_type": "stream",
     "text": [
      "Accuracy Score: 86.68013609369125 %\n",
      "\n",
      "\n",
      "Classification Report is: \n",
      "               precision    recall  f1-score   support\n",
      "\n",
      "           0       0.89      0.97      0.93    100195\n",
      "           1       0.37      0.11      0.18     14138\n",
      "\n",
      "    accuracy                           0.87    114333\n",
      "   macro avg       0.63      0.54      0.55    114333\n",
      "weighted avg       0.82      0.87      0.83    114333\n",
      "\n",
      "\n",
      "\n",
      "Confusion Matrix: \n",
      " [[97487  2708]\n",
      " [12521  1617]]\n",
      "\n",
      "\n",
      "Training Score:  86.68013609369125\n",
      "\n",
      "\n",
      "Mean Squared Error:  0.13319863906308765\n",
      "\n",
      "\n",
      "{'bootstrap': True, 'ccp_alpha': 0.0, 'class_weight': None, 'criterion': 'gini', 'max_depth': None, 'max_features': 'auto', 'max_leaf_nodes': None, 'max_samples': None, 'min_impurity_decrease': 0.0, 'min_impurity_split': None, 'min_samples_leaf': 1, 'min_samples_split': 2, 'min_weight_fraction_leaf': 0.0, 'n_estimators': 100, 'n_jobs': None, 'oob_score': False, 'random_state': 40, 'verbose': 0, 'warm_start': False}\n"
     ]
    }
   ],
   "source": [
    "print(f'Accuracy Score: {(accuracy_score(y_test,y_pred_rf))*100} %')\n",
    "print('\\n')\n",
    "print(\"Classification Report is: \\n\",classification_report(y_test,y_pred_rf))\n",
    "print('\\n')\n",
    "print(\"Confusion Matrix: \\n\",confusion_matrix(y_test,y_pred_rf))\n",
    "print('\\n')\n",
    "print(\"Training Score: \",rf_mod.score(X_test,y_test)*100)\n",
    "print('\\n')\n",
    "print(\"Mean Squared Error: \",mean_squared_error(y_test,y_pred_rf))\n",
    "print('\\n')\n",
    "\n",
    "print(rf_mod.get_params())"
   ]
  },
  {
   "cell_type": "markdown",
   "id": "5e6b0727",
   "metadata": {},
   "source": [
    "### Gradient Boosting Classifier"
   ]
  },
  {
   "cell_type": "code",
   "execution_count": 53,
   "id": "2da91dcc",
   "metadata": {},
   "outputs": [],
   "source": [
    "grad_mod = GradientBoostingClassifier()\n",
    "model_gb = grad_mod.fit(X_train,y_train.values.ravel())\n",
    "y_pred_gb = model_gb.predict(X_test)"
   ]
  },
  {
   "cell_type": "code",
   "execution_count": 54,
   "id": "a0e23f85",
   "metadata": {},
   "outputs": [
    {
     "name": "stdout",
     "output_type": "stream",
     "text": [
      "Accuracy Score: 87.63174236659582 %\n",
      "\n",
      "\n",
      "\n",
      "Classification Report is: \n",
      "               precision    recall  f1-score   support\n",
      "\n",
      "           0       0.88      1.00      0.93    100195\n",
      "           1       0.41      0.00      0.00     14138\n",
      "\n",
      "    accuracy                           0.88    114333\n",
      "   macro avg       0.64      0.50      0.47    114333\n",
      "weighted avg       0.82      0.88      0.82    114333\n",
      "\n",
      "\n",
      "\n",
      "\n",
      "Confusion Matrix: \n",
      " [[100185     10]\n",
      " [ 14131      7]]\n",
      "\n",
      "\n",
      "\n",
      "Training Score:  87.63174236659582\n",
      "\n",
      "\n",
      "\n",
      "Mean Squared Error:  0.1236825763340418\n",
      "\n",
      "\n",
      "\n",
      "{'ccp_alpha': 0.0, 'criterion': 'friedman_mse', 'init': None, 'learning_rate': 0.1, 'loss': 'deviance', 'max_depth': 3, 'max_features': None, 'max_leaf_nodes': None, 'min_impurity_decrease': 0.0, 'min_impurity_split': None, 'min_samples_leaf': 1, 'min_samples_split': 2, 'min_weight_fraction_leaf': 0.0, 'n_estimators': 100, 'n_iter_no_change': None, 'random_state': None, 'subsample': 1.0, 'tol': 0.0001, 'validation_fraction': 0.1, 'verbose': 0, 'warm_start': False}\n",
      "\n",
      "\n",
      "\n"
     ]
    }
   ],
   "source": [
    "print(f'Accuracy Score: {(accuracy_score(y_test,y_pred_gb))*100} %')\n",
    "print('\\n\\n')\n",
    "print(\"Classification Report is: \\n\",classification_report(y_test,y_pred_gb))\n",
    "print('\\n\\n')\n",
    "print(\"Confusion Matrix: \\n\",confusion_matrix(y_test,y_pred_gb))\n",
    "print('\\n\\n')\n",
    "print(\"Training Score: \",grad_mod.score(X_test,y_test)*100)\n",
    "print('\\n\\n')\n",
    "print(\"Mean Squared Error: \",mean_squared_error(y_test,y_pred_gb))\n",
    "print('\\n\\n')\n",
    "\n",
    "print(grad_mod.get_params())\n",
    "print('\\n\\n')"
   ]
  },
  {
   "cell_type": "markdown",
   "id": "851004d3",
   "metadata": {},
   "source": [
    "# Hyperparameter Tuning"
   ]
  },
  {
   "cell_type": "markdown",
   "id": "d0c6d4ae",
   "metadata": {},
   "source": [
    "We choose random forest because it provides better score than logistic regression and decision tree in this case."
   ]
  },
  {
   "cell_type": "markdown",
   "id": "c9437c84",
   "metadata": {},
   "source": [
    "FOR RANDOM FOREST"
   ]
  },
  {
   "cell_type": "code",
   "execution_count": 56,
   "id": "f285d638",
   "metadata": {},
   "outputs": [],
   "source": [
    "parameters = {\n",
    "    \"n_estimators\": [50, 200, 400],\n",
    "    \"max_depth\": [10, 50, 70]\n",
    "}"
   ]
  },
  {
   "cell_type": "code",
   "execution_count": 61,
   "id": "4d5f0ba4",
   "metadata": {},
   "outputs": [
    {
     "data": {
      "text/plain": [
       "RandomForestClassifier(max_depth=10, n_estimators=400, random_state=40)"
      ]
     },
     "execution_count": 61,
     "metadata": {},
     "output_type": "execute_result"
    }
   ],
   "source": [
    "from sklearn.model_selection import GridSearchCV\n",
    "\n",
    "grid_forest = GridSearchCV(model_rf, parameters, scoring = 'roc_auc', cv = 3, n_jobs =-1)\n",
    "grid_forest.fit(X_train, y_train.values.ravel())\n",
    "\n",
    "grid_forest.best_estimator_"
   ]
  },
  {
   "cell_type": "code",
   "execution_count": 62,
   "id": "9e2965e8",
   "metadata": {},
   "outputs": [
    {
     "data": {
      "text/plain": [
       "{'mean_fit_time': array([ 34.59547838, 134.86939136, 263.54848735,  51.65767066,\n",
       "        196.53350409, 343.61601392,  49.09701014, 171.31022016,\n",
       "        255.71702909]),\n",
       " 'std_fit_time': array([0.27506359, 0.74309104, 1.9631351 , 0.64666334, 1.01786049,\n",
       "        2.57722803, 0.68559859, 1.23732388, 2.91641902]),\n",
       " 'mean_score_time': array([0.74200757, 2.79254055, 5.30215748, 1.6014576 , 6.1045541 ,\n",
       "        7.0907855 , 1.58444349, 4.58283774, 6.59500416]),\n",
       " 'std_score_time': array([0.02371945, 0.02909043, 0.05498297, 0.00726351, 0.03620918,\n",
       "        0.0837588 , 0.020086  , 0.17901841, 0.03681021]),\n",
       " 'param_max_depth': masked_array(data=[10, 10, 10, 50, 50, 50, 70, 70, 70],\n",
       "              mask=[False, False, False, False, False, False, False, False,\n",
       "                    False],\n",
       "        fill_value='?',\n",
       "             dtype=object),\n",
       " 'param_n_estimators': masked_array(data=[50, 200, 400, 50, 200, 400, 50, 200, 400],\n",
       "              mask=[False, False, False, False, False, False, False, False,\n",
       "                    False],\n",
       "        fill_value='?',\n",
       "             dtype=object),\n",
       " 'params': [{'max_depth': 10, 'n_estimators': 50},\n",
       "  {'max_depth': 10, 'n_estimators': 200},\n",
       "  {'max_depth': 10, 'n_estimators': 400},\n",
       "  {'max_depth': 50, 'n_estimators': 50},\n",
       "  {'max_depth': 50, 'n_estimators': 200},\n",
       "  {'max_depth': 50, 'n_estimators': 400},\n",
       "  {'max_depth': 70, 'n_estimators': 50},\n",
       "  {'max_depth': 70, 'n_estimators': 200},\n",
       "  {'max_depth': 70, 'n_estimators': 400}],\n",
       " 'split0_test_score': array([0.84854944, 0.84911785, 0.84911486, 0.82485285, 0.83106729,\n",
       "        0.83194318, 0.82499694, 0.83108783, 0.8317598 ]),\n",
       " 'split1_test_score': array([0.85178041, 0.85230902, 0.85243926, 0.82855553, 0.83400581,\n",
       "        0.83500327, 0.82704813, 0.83374   , 0.83464602]),\n",
       " 'split2_test_score': array([0.84970218, 0.84989558, 0.85006147, 0.82379817, 0.82893404,\n",
       "        0.82969547, 0.82292058, 0.82834527, 0.82958451]),\n",
       " 'mean_test_score': array([0.85001068, 0.85044082, 0.85053853, 0.82573552, 0.83133571,\n",
       "        0.83221397, 0.82498855, 0.8310577 , 0.83199677]),\n",
       " 'std_test_score': array([0.00133695, 0.00135864, 0.00139848, 0.00204001, 0.00207922,\n",
       "        0.00217534, 0.00168507, 0.00220249, 0.00207314]),\n",
       " 'rank_test_score': array([3, 2, 1, 8, 6, 4, 9, 7, 5])}"
      ]
     },
     "execution_count": 62,
     "metadata": {},
     "output_type": "execute_result"
    }
   ],
   "source": [
    "grid_forest.cv_results_"
   ]
  },
  {
   "cell_type": "code",
   "execution_count": null,
   "id": "bb26166d",
   "metadata": {},
   "outputs": [],
   "source": []
  }
 ],
 "metadata": {
  "kernelspec": {
   "display_name": "Python 3 (ipykernel)",
   "language": "python",
   "name": "python3"
  },
  "language_info": {
   "codemirror_mode": {
    "name": "ipython",
    "version": 3
   },
   "file_extension": ".py",
   "mimetype": "text/x-python",
   "name": "python",
   "nbconvert_exporter": "python",
   "pygments_lexer": "ipython3",
   "version": "3.9.7"
  }
 },
 "nbformat": 4,
 "nbformat_minor": 5
}
